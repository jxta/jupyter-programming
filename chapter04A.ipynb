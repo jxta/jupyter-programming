{
 "cells": [
  {
   "cell_type": "markdown",
   "metadata": {},
   "source": [
    "# Jupyter Notebookで始めるプログラミング2019　演習問題　（４章）"
   ]
  },
  {
   "cell_type": "markdown",
   "metadata": {},
   "source": [
    "## 問4-1 while文を使う"
   ]
  },
  {
   "cell_type": "markdown",
   "metadata": {},
   "source": [
    "while文を使い、1から10までの合計を求めるプログラムを書きなさい。"
   ]
  },
  {
   "cell_type": "code",
   "execution_count": 1,
   "metadata": {},
   "outputs": [
    {
     "name": "stdout",
     "output_type": "stream",
     "text": [
      "55\n"
     ]
    }
   ],
   "source": [
    "i = 1\n",
    "s = 0\n",
    "while (i <= 10):\n",
    "    s += i\n",
    "    i = i + 1\n",
    "print(s)"
   ]
  },
  {
   "cell_type": "markdown",
   "metadata": {},
   "source": [
    "## 問4-2 for文を使う"
   ]
  },
  {
   "cell_type": "markdown",
   "metadata": {},
   "source": [
    "for文を使い、10から1まで逆順で合計を求めるプログラムを書きなさい。"
   ]
  },
  {
   "cell_type": "code",
   "execution_count": 2,
   "metadata": {},
   "outputs": [
    {
     "name": "stdout",
     "output_type": "stream",
     "text": [
      "55\n"
     ]
    }
   ],
   "source": [
    "s = 0\n",
    "for i in range(10, 0, -1):\n",
    "    s += i\n",
    "print(s)"
   ]
  },
  {
   "cell_type": "markdown",
   "metadata": {},
   "source": [
    "## 問4-3 九九の表の桁を揃えて表示する"
   ]
  },
  {
   "cell_type": "markdown",
   "metadata": {},
   "source": [
    "% 演算子を使うと、桁を揃えて数字や文字を表示することができる。\n",
    "\n",
    "        # 3桁の数字で表示する} \n",
    "        print(\"%3d\" % 数字)\n",
    "\n",
    "        数字(3桁)\n",
    "\n",
    "上記を使って、九九の表の桁を揃えて綺麗に表示するようにしなさい"
   ]
  },
  {
   "cell_type": "code",
   "execution_count": 3,
   "metadata": {},
   "outputs": [
    {
     "name": "stdout",
     "output_type": "stream",
     "text": [
      "  1   2   3   4   5   6   7   8   9 \n",
      "  2   4   6   8  10  12  14  16  18 \n",
      "  3   6   9  12  15  18  21  24  27 \n",
      "  4   8  12  16  20  24  28  32  36 \n",
      "  5  10  15  20  25  30  35  40  45 \n",
      "  6  12  18  24  30  36  42  48  54 \n",
      "  7  14  21  28  35  42  49  56  63 \n",
      "  8  16  24  32  40  48  56  64  72 \n",
      "  9  18  27  36  45  54  63  72  81 \n"
     ]
    }
   ],
   "source": [
    "for dan in range (1,10):\n",
    "    for gyo in range (1,10):\n",
    "        print(\"%3d\" % (dan * gyo), end=\" \")\n",
    "    print()"
   ]
  },
  {
   "cell_type": "markdown",
   "metadata": {},
   "source": [
    "## 問4-4 二重ループ処理"
   ]
  },
  {
   "cell_type": "markdown",
   "metadata": {},
   "source": [
    "変数x,yを使ったfor文の二重ループで、次に示す市松模様を書きなさい。\n",
    "\n",
    "\n",
    "    * - * - * - * - * - \n",
    "    - * - * - * - * - * \n",
    "    * - * - * - * - * - \n",
    "    - * - * - * - * - * \n",
    "    * - * - * - * - * - \n",
    "    - * - * - * - * - * \n",
    "    * - * - * - * - * - \n",
    "    - * - * - * - * - * \n",
    "    * - * - * - * - * - \n",
    "    - * - * - * - * - * \n",
    "\n",
    "計算の手順は次の通りとしなさい。\n",
    "    \n",
    "1.  for文で変数$x$を$0$から$9$まで以下の計算をする。\n",
    "  1.  for文で変数$y$を$0$から$9$まで以下の計算をする。\n",
    "        1. もし、$x+y$が2で割り切れるなら、改行せずに\"*\"を出力する。\n",
    "        1. それ以外の場合には、改行せずに\"-\"を出力する。\n",
    "   1. print()で改行する。\n"
   ]
  },
  {
   "cell_type": "code",
   "execution_count": 4,
   "metadata": {},
   "outputs": [
    {
     "name": "stdout",
     "output_type": "stream",
     "text": [
      "* - * - * - * - * - \n",
      "- * - * - * - * - * \n",
      "* - * - * - * - * - \n",
      "- * - * - * - * - * \n",
      "* - * - * - * - * - \n",
      "- * - * - * - * - * \n",
      "* - * - * - * - * - \n",
      "- * - * - * - * - * \n",
      "* - * - * - * - * - \n",
      "- * - * - * - * - * \n"
     ]
    }
   ],
   "source": [
    "for x in range (0,10):\n",
    "    for y in range (0,10):\n",
    "        if (x + y) % 2 == 0:\n",
    "            print(\"*\", end=\" \")\n",
    "        else:\n",
    "            print(\"-\", end=\" \")\n",
    "    print()"
   ]
  },
  {
   "cell_type": "markdown",
   "metadata": {},
   "source": [
    "## 問4-4 $sin(x)$の文字によるプロット"
   ]
  },
  {
   "cell_type": "markdown",
   "metadata": {},
   "source": [
    "sin(x)の値を$x$が$0^\\circ$から$360^\\circ$まで計算し、下に示すように、アスタリスク（\"*\"）でプロットしなさい。\n",
    "\n",
    "計算の手順は次の通りとしなさい。\n",
    "    \n",
    "1. for文で変数iを$0^\\circ$から$360^\\circ$まで$10^\\circ$刻みで、以下の計算をしなさい。\n",
    "\n",
    "    1. sin()の値を計算して、変数sに代入する\n",
    "    \n",
    "         ただし、iは度数表示なので、弧度法に変換してから計算すること。\n",
    "    1. 出力するべき空白の数nsを次の式で計算する\n",
    "    \n",
    "        $20 * (1 + sin (s))$\n",
    "    1. 出力する空白文字spを次の式で計算する\n",
    "    \n",
    "        $\"\\ \" * ns$\n",
    "    1. print()で i,sp, アスタリスク（\"*\"）を表示しなさい。\n"
   ]
  },
  {
   "cell_type": "code",
   "execution_count": 5,
   "metadata": {},
   "outputs": [
    {
     "name": "stdout",
     "output_type": "stream",
     "text": [
      "0                      *\n",
      "10                         *\n",
      "20                            *\n",
      "30                                *\n",
      "40                                  *\n",
      "50                                     *\n",
      "60                                       *\n",
      "70                                        *\n",
      "80                                         *\n",
      "90                                          *\n",
      "100                                         *\n",
      "110                                        *\n",
      "120                                       *\n",
      "130                                     *\n",
      "140                                  *\n",
      "150                                *\n",
      "160                            *\n",
      "170                         *\n",
      "180                      *\n",
      "190                  *\n",
      "200               *\n",
      "210           *\n",
      "220         *\n",
      "230      *\n",
      "240    *\n",
      "250   *\n",
      "260  *\n",
      "270  *\n",
      "280  *\n",
      "290   *\n",
      "300    *\n",
      "310      *\n",
      "320         *\n",
      "330           *\n",
      "340               *\n",
      "350                  *\n",
      "360                     *\n"
     ]
    }
   ],
   "source": [
    "import math\n",
    "for i in range(0, 370, 10):\n",
    "    s = math.sin(math.radians(i))\n",
    "    ns = int(20 * (1 + s))\n",
    "    spaces = ' ' * ns\n",
    "    print (i, spaces, '*')"
   ]
  },
  {
   "cell_type": "code",
   "execution_count": null,
   "metadata": {},
   "outputs": [],
   "source": []
  }
 ],
 "metadata": {
  "kernelspec": {
   "display_name": "Python 3",
   "language": "python",
   "name": "python3"
  },
  "language_info": {
   "codemirror_mode": {
    "name": "ipython",
    "version": 3
   },
   "file_extension": ".py",
   "mimetype": "text/x-python",
   "name": "python",
   "nbconvert_exporter": "python",
   "pygments_lexer": "ipython3",
   "version": "3.6.5"
  },
  "toc": {
   "base_numbering": 1,
   "nav_menu": {},
   "number_sections": true,
   "sideBar": true,
   "skip_h1_title": false,
   "title_cell": "Table of Contents",
   "title_sidebar": "Contents",
   "toc_cell": false,
   "toc_position": {},
   "toc_section_display": true,
   "toc_window_display": false
  }
 },
 "nbformat": 4,
 "nbformat_minor": 2
}
