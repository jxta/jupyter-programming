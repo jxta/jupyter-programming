{
 "cells": [
  {
   "cell_type": "markdown",
   "metadata": {},
   "source": [
    "# Jupyter Notebookで始めるプログラミング　演習問題　（９章）"
   ]
  },
  {
   "cell_type": "markdown",
   "metadata": {},
   "source": [
    "## 9-1 略"
   ]
  },
  {
   "cell_type": "markdown",
   "metadata": {},
   "source": [
    "## 9-2"
   ]
  },
  {
   "cell_type": "code",
   "execution_count": 1,
   "metadata": {},
   "outputs": [],
   "source": [
    "def max_idx(l, s):\n",
    "    m = l[s] # 仮に最大値を最初の要素とする\n",
    "    m_idx = s # 仮に最大値の要素番号を最初の要素番号とする\n",
    "    for i in range(s,len(l)):\n",
    "        if m < l[i]:  #最大値より大きい場合\n",
    "            m = l[i]\n",
    "            m_idx = i\n",
    "    return m_idx"
   ]
  },
  {
   "cell_type": "code",
   "execution_count": 2,
   "metadata": {},
   "outputs": [],
   "source": [
    "def selection_sort2(l):\n",
    "    sort_start = 0\n",
    "    sort_end = len(l)\n",
    "    while(sort_start < sort_end):\n",
    "        mi = max_idx(l, sort_start)\n",
    "        # 最大値の要素と最初の要素を入れ替える\n",
    "        tmp = l[sort_start]\n",
    "        l[sort_start] = l[mi]\n",
    "        l[mi] = tmp\n",
    "        # 対象範囲を変更する\n",
    "        sort_start += 1"
   ]
  },
  {
   "cell_type": "code",
   "execution_count": 3,
   "metadata": {},
   "outputs": [],
   "source": [
    "import random\n",
    "l = random.sample(list(range(1000)), k=1000)"
   ]
  },
  {
   "cell_type": "code",
   "execution_count": 4,
   "metadata": {},
   "outputs": [
    {
     "name": "stdout",
     "output_type": "stream",
     "text": [
      "CPU times: user 71.9 ms, sys: 1.61 ms, total: 73.5 ms\n",
      "Wall time: 72.4 ms\n"
     ]
    }
   ],
   "source": [
    "%%time\n",
    "selection_sort2(l)"
   ]
  },
  {
   "cell_type": "markdown",
   "metadata": {},
   "source": [
    "## 9-3"
   ]
  },
  {
   "cell_type": "code",
   "execution_count": 5,
   "metadata": {},
   "outputs": [],
   "source": [
    "import random\n",
    "alphabet = [ 'a', 'b', 'c', 'd', 'e', 'f', 'g', 'h', 'i', 'j', 'k', 'l', 'm', 'n', 'o', 'p', 'q', 'r', 's', 't', 'u', 'v', 'w', 'x', 'y', 'z']"
   ]
  },
  {
   "cell_type": "code",
   "execution_count": 6,
   "metadata": {},
   "outputs": [
    {
     "data": {
      "text/plain": [
       "['z',\n",
       " 'y',\n",
       " 'x',\n",
       " 'w',\n",
       " 'v',\n",
       " 'u',\n",
       " 't',\n",
       " 's',\n",
       " 'r',\n",
       " 'q',\n",
       " 'p',\n",
       " 'o',\n",
       " 'n',\n",
       " 'm',\n",
       " 'l',\n",
       " 'k',\n",
       " 'j',\n",
       " 'i',\n",
       " 'h',\n",
       " 'g',\n",
       " 'f',\n",
       " 'e',\n",
       " 'd',\n",
       " 'c',\n",
       " 'b',\n",
       " 'a']"
      ]
     },
     "execution_count": 6,
     "metadata": {},
     "output_type": "execute_result"
    }
   ],
   "source": [
    "l = random.sample(alphabet, len(alphabet))\n",
    "selection_sort2(l)\n",
    "l"
   ]
  },
  {
   "cell_type": "markdown",
   "metadata": {},
   "source": [
    "## 9-4"
   ]
  },
  {
   "cell_type": "code",
   "execution_count": 7,
   "metadata": {},
   "outputs": [],
   "source": [
    "def min_idx(l, s):\n",
    "    m = l[s] # 仮に最初の要素を最小値とする\n",
    "    m_idx = s # 仮に最初の要素番号を最小値の要素番号とする\n",
    "    for i in range(s, len(l)):\n",
    "        if m > l[i]: # 最小値より小さい場合\n",
    "            m = l[i]\n",
    "            m_idx = i\n",
    "    return m_idx # 最小値の要素番号を返す"
   ]
  },
  {
   "cell_type": "code",
   "execution_count": 8,
   "metadata": {},
   "outputs": [],
   "source": [
    "def selection_sort(l):\n",
    "    sort_start = 0\n",
    "    while sort_start < len(l):\n",
    "        mi = min_idx(l, sort_start)\n",
    "        # 最小値の要素と最初の要素を入れ替える\n",
    "        tmp = l[sort_start]\n",
    "        l[sort_start] = l[mi]\n",
    "        l[mi] = tmp\n",
    "        # 対象範囲を変更する\n",
    "        sort_start +=1"
   ]
  },
  {
   "cell_type": "code",
   "execution_count": 9,
   "metadata": {},
   "outputs": [
    {
     "data": {
      "text/plain": [
       "['April',\n",
       " 'August',\n",
       " 'December',\n",
       " 'February',\n",
       " 'January',\n",
       " 'July',\n",
       " 'June',\n",
       " 'March',\n",
       " 'May',\n",
       " 'November',\n",
       " 'October',\n",
       " 'September']"
      ]
     },
     "execution_count": 9,
     "metadata": {},
     "output_type": "execute_result"
    }
   ],
   "source": [
    "month = ['January', 'February', 'March', 'April', 'May', 'June', 'July',\n",
    "         'August', 'September', 'October', 'November', 'December']\n",
    "selection_sort(month)\n",
    "month"
   ]
  },
  {
   "cell_type": "markdown",
   "metadata": {},
   "source": [
    "## 9-5"
   ]
  },
  {
   "cell_type": "code",
   "execution_count": 10,
   "metadata": {},
   "outputs": [
    {
     "data": {
      "text/plain": [
       "[['June', 6],\n",
       " ['April', 4],\n",
       " ['December', 12],\n",
       " ['March', 3],\n",
       " ['September', 9],\n",
       " ['July', 7],\n",
       " ['October', 10],\n",
       " ['August', 8],\n",
       " ['February', 2],\n",
       " ['January', 1],\n",
       " ['May', 5],\n",
       " ['November', 11]]"
      ]
     },
     "execution_count": 10,
     "metadata": {},
     "output_type": "execute_result"
    }
   ],
   "source": [
    "import random\n",
    "month_l = [['January', 1], ['February', 2], ['March', 3], \n",
    "            ['April', 4], ['May', 5], ['June', 6], \n",
    "            ['July',7], ['August',8], ['September',9],\n",
    "             ['October',10], ['November',11], ['December',12]]\n",
    "\n",
    "l = random.sample(month_l, 12) # month_lをランダムに入れ替える\n",
    "l"
   ]
  },
  {
   "cell_type": "code",
   "execution_count": 11,
   "metadata": {},
   "outputs": [],
   "source": [
    "def min_idx_l(l, s):\n",
    "    min = l[s][1] # 仮に最小値を最初の要素とする\n",
    "    min_idx = s\n",
    "    for i in range(s, len(l)):\n",
    "        if (min > l[i][1]):\n",
    "            min = l[i][1]\n",
    "            min_idx = i\n",
    "    return min_idx\n",
    "\n",
    "def selection_sort_l(l):\n",
    "    sort_start = 0\n",
    "    sort_end = len(l)\n",
    "    while sort_start < sort_end:\n",
    "        mi = min_idx_l(l, sort_start)\n",
    "\n",
    "        # 最小値のものと最初の要素を入れ替える\n",
    "        tmp = l[sort_start]\n",
    "        l[sort_start] = l[mi]\n",
    "        l[mi] = tmp\n",
    "    \n",
    "        # 対象範囲を変更する\n",
    "        sort_start += 1"
   ]
  },
  {
   "cell_type": "code",
   "execution_count": 12,
   "metadata": {},
   "outputs": [
    {
     "data": {
      "text/plain": [
       "[['January', 1],\n",
       " ['February', 2],\n",
       " ['March', 3],\n",
       " ['April', 4],\n",
       " ['May', 5],\n",
       " ['June', 6],\n",
       " ['July', 7],\n",
       " ['August', 8],\n",
       " ['September', 9],\n",
       " ['October', 10],\n",
       " ['November', 11],\n",
       " ['December', 12]]"
      ]
     },
     "execution_count": 12,
     "metadata": {},
     "output_type": "execute_result"
    }
   ],
   "source": [
    "selection_sort_l(l)\n",
    "l"
   ]
  }
 ],
 "metadata": {
  "kernelspec": {
   "display_name": "Python 3",
   "language": "python",
   "name": "python3"
  },
  "language_info": {
   "codemirror_mode": {
    "name": "ipython",
    "version": 3
   },
   "file_extension": ".py",
   "mimetype": "text/x-python",
   "name": "python",
   "nbconvert_exporter": "python",
   "pygments_lexer": "ipython3",
   "version": "3.5.5"
  },
  "toc": {
   "base_numbering": 1,
   "nav_menu": {},
   "number_sections": true,
   "sideBar": true,
   "skip_h1_title": false,
   "title_cell": "Table of Contents",
   "title_sidebar": "Contents",
   "toc_cell": false,
   "toc_position": {},
   "toc_section_display": true,
   "toc_window_display": false
  }
 },
 "nbformat": 4,
 "nbformat_minor": 2
}
