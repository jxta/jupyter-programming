{
 "cells": [
  {
   "cell_type": "markdown",
   "metadata": {},
   "source": [
    "# Jupyter Notebookで始めるプログラミング　演習問題　（３章）"
   ]
  },
  {
   "cell_type": "markdown",
   "metadata": {},
   "source": [
    "## 3-1"
   ]
  },
  {
   "cell_type": "code",
   "execution_count": 1,
   "metadata": {},
   "outputs": [
    {
     "name": "stdout",
     "output_type": "stream",
     "text": [
      "年齢？21\n",
      "20世紀生まれ\n"
     ]
    }
   ],
   "source": [
    "y = int(input(\"年齢？\"))\n",
    "by = 2020 - y  # 2020年の場合\n",
    "if by <= 2000:\n",
    "    print(\"20世紀生まれ\")\n",
    "else:\n",
    "    print(\"21世紀生まれ\")"
   ]
  },
  {
   "cell_type": "markdown",
   "metadata": {},
   "source": [
    "## 3-2"
   ]
  },
  {
   "cell_type": "code",
   "execution_count": 2,
   "metadata": {},
   "outputs": [
    {
     "name": "stdout",
     "output_type": "stream",
     "text": [
      "1回目の点数？50\n",
      "2回目の点数？70\n",
      "合格 60.0\n"
     ]
    }
   ],
   "source": [
    "a = int(input(\"1回目の点数？\"))\n",
    "b = int(input(\"2回目の点数？\"))\n",
    "h = (a + b) / 2\n",
    "if a >= 50 and b >= 50 and h >= 60:\n",
    "    print(\"合格\", h)\n",
    "else:\n",
    "    print(\"不合格\")"
   ]
  },
  {
   "cell_type": "markdown",
   "metadata": {},
   "source": [
    "## 3-3"
   ]
  },
  {
   "cell_type": "code",
   "execution_count": 3,
   "metadata": {},
   "outputs": [
    {
     "name": "stdout",
     "output_type": "stream",
     "text": [
      "身長(m)？1.72\n",
      "体重(Kg)？80\n",
      "肥満度１\n",
      "標準体重 65.08479999999999\n",
      "標準体重との差 14.915200000000013\n"
     ]
    }
   ],
   "source": [
    "h = float(input(\"身長(m)？\"))\n",
    "w = float(input(\"体重(Kg)？\"))\n",
    "bmi = w / h / h\n",
    "sw = h * h * 22\n",
    "if bmi< 18.5:\n",
    "    print(\"低体重\")\n",
    "elif bmi < 25:\n",
    "    print(\"普通体重\")\n",
    "elif bmi < 30:\n",
    "    print(\"肥満度１\")\n",
    "elif bmi < 35:\n",
    "    print(\"肥満度２\")\n",
    "elif bmi < 40:\n",
    "    print(\"肥満度３\")\n",
    "else:\n",
    "    print(\"肥満度４\")\n",
    "print(\"標準体重\", sw)\n",
    "print(\"標準体重との差\", w - sw)"
   ]
  }
 ],
 "metadata": {
  "kernelspec": {
   "display_name": "Python 3",
   "language": "python",
   "name": "python3"
  },
  "language_info": {
   "codemirror_mode": {
    "name": "ipython",
    "version": 3
   },
   "file_extension": ".py",
   "mimetype": "text/x-python",
   "name": "python",
   "nbconvert_exporter": "python",
   "pygments_lexer": "ipython3",
   "version": "3.7.7"
  },
  "toc": {
   "base_numbering": 1,
   "nav_menu": {},
   "number_sections": true,
   "sideBar": true,
   "skip_h1_title": false,
   "title_cell": "Table of Contents",
   "title_sidebar": "Contents",
   "toc_cell": false,
   "toc_position": {},
   "toc_section_display": true,
   "toc_window_display": false
  }
 },
 "nbformat": 4,
 "nbformat_minor": 2
}
