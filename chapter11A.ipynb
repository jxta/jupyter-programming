{
 "cells": [
  {
   "cell_type": "markdown",
   "metadata": {},
   "source": [
    "# Jupyter Notebookで始めるプログラミング　演習問題　（１１章）"
   ]
  },
  {
   "cell_type": "markdown",
   "metadata": {},
   "source": [
    "## 11-1"
   ]
  },
  {
   "cell_type": "code",
   "execution_count": 1,
   "metadata": {},
   "outputs": [],
   "source": [
    "x = [0, 1, 2, 3, 4, 5, 6, 7] # 確率変数xとその確率分布\n",
    "Px = [0.05, 0.10, 0.15, 0.20, 0.20, 0.15, 0.10,0.05]"
   ]
  },
  {
   "cell_type": "code",
   "execution_count": 2,
   "metadata": {},
   "outputs": [],
   "source": [
    "y = [2, 3, 4, 5, 6] # 確率変数yとその確率分布\n",
    "Py = [0.20, 0.25, 0.25 , 0.20, 0.10]"
   ]
  },
  {
   "cell_type": "code",
   "execution_count": 3,
   "metadata": {},
   "outputs": [],
   "source": [
    "z = [6, 7, 8, 9] # 確率変数zとその確率分布\n",
    "Pz = [0.20, 0.45, 0.25, 0.10]"
   ]
  },
  {
   "cell_type": "code",
   "execution_count": 4,
   "metadata": {},
   "outputs": [],
   "source": [
    "%matplotlib inline\n",
    "import matplotlib.pyplot as plt # グラフを表示するための準備"
   ]
  },
  {
   "cell_type": "code",
   "execution_count": 5,
   "metadata": {},
   "outputs": [],
   "source": [
    "import random # random.choices関数を利用するための準備"
   ]
  },
  {
   "cell_type": "code",
   "execution_count": 6,
   "metadata": {},
   "outputs": [],
   "source": [
    "def f(x, Px, y, Py, z, Pz): # サンプルwiを計算する関数\n",
    "    x_samples = random.choices(x, weights=Px, k=1)\n",
    "    xi = x_samples[0]\n",
    "    y_samples = random.choices(y, weights=Py, k=1)\n",
    "    yi = y_samples[0]\n",
    "    z_samples = random.choices(z, weights=Pz, k=1)\n",
    "    zi = z_samples[0]\n",
    "\n",
    "    wi = 3 * xi + 2 * yi + zi\n",
    "    return wi"
   ]
  },
  {
   "cell_type": "code",
   "execution_count": 7,
   "metadata": {},
   "outputs": [],
   "source": [
    "w = [] # リストwを用意し、サンプルの要素を100,000個格納\n",
    "for i in range(100000):\n",
    "    wi = f(x, Px, y, Py, z, Pz)\n",
    "    w.append(wi)\n",
    "w.sort() # サンプルを小さな値の順にソート"
   ]
  },
  {
   "cell_type": "code",
   "execution_count": 8,
   "metadata": {},
   "outputs": [
    {
     "data": {
      "text/plain": [
       "(array([ 2226.,  5591., 10417., 15391., 18171., 22906., 12947.,  7865.,\n",
       "         3531.,   955.]),\n",
       " array([10. , 13.2, 16.4, 19.6, 22.8, 26. , 29.2, 32.4, 35.6, 38.8, 42. ]),\n",
       " <BarContainer object of 10 artists>)"
      ]
     },
     "execution_count": 8,
     "metadata": {},
     "output_type": "execute_result"
    },
    {
     "data": {
      "image/png": "[encoded data removed]",
      "text/plain": [
       "<Figure size 432x288 with 1 Axes>"
      ]
     },
     "metadata": {
      "needs_background": "light"
     },
     "output_type": "display_data"
    }
   ],
   "source": [
    "plt.hist(w) # ヒストグラムを作成"
   ]
  },
  {
   "cell_type": "code",
   "execution_count": 9,
   "metadata": {},
   "outputs": [
    {
     "name": "stdout",
     "output_type": "stream",
     "text": [
      "25.24851\n"
     ]
    }
   ],
   "source": [
    "# サンプルの平均値 = サンプルの合計 / サンプルサイズ\n",
    "mean = sum(w) / len(w)\n",
    "print(mean)"
   ]
  },
  {
   "cell_type": "markdown",
   "metadata": {},
   "source": [
    "(この値は、シミュレーションによって多少変化することがあります。)"
   ]
  },
  {
   "cell_type": "code",
   "execution_count": 10,
   "metadata": {},
   "outputs": [
    {
     "name": "stdout",
     "output_type": "stream",
     "text": [
      "36.43647277989292\n"
     ]
    }
   ],
   "source": [
    "# サンプルの分散 = 平均値との差分の2乗の合計 / サンプルサイズ\n",
    "var = 0\n",
    "for i in range(100000):\n",
    "    var = var + (w[i] - mean)*(w[i] - mean)\n",
    "var = var/len(w)\n",
    "print(var)"
   ]
  },
  {
   "cell_type": "markdown",
   "metadata": {},
   "source": [
    "(この値は、シミュレーションによって多少変化することがあります。)"
   ]
  },
  {
   "cell_type": "markdown",
   "metadata": {},
   "source": [
    "## 11-2"
   ]
  },
  {
   "cell_type": "code",
   "execution_count": 11,
   "metadata": {},
   "outputs": [],
   "source": [
    "# 確率変数xとその確率分布\n",
    "x = [0, 100, 200, 300, 400, 500, 600, 700, 800]\n",
    "Px = [0.13, 0.0, 0.0, 0.10, 0.23, 0.30, 0.17, 0.0, 0.07]"
   ]
  },
  {
   "cell_type": "code",
   "execution_count": 12,
   "metadata": {},
   "outputs": [],
   "source": [
    "import random # random.choices関数を利用するための準備"
   ]
  },
  {
   "cell_type": "code",
   "execution_count": 13,
   "metadata": {},
   "outputs": [],
   "source": [
    "# 1ヶ月の昼食代のサンプルを計算する関数\n",
    "def LunchCost(x, Px):\n",
    "    # 1日の昼食代のサンプル（サイズ30個）をランダムに抽出\n",
    "    x_samples = random.choices(x, weights=Px, k=30)\n",
    "    # 30個のサンプルの要素を合計して、1ヶ月の昼食代のサンプルを返す\n",
    "    return sum(x_samples)"
   ]
  },
  {
   "cell_type": "code",
   "execution_count": 14,
   "metadata": {},
   "outputs": [],
   "source": [
    "# リストMonthlyCostsを用意し、サンプルの要素を100,000個格納\n",
    "MonthlyCosts = []\n",
    "for i in range(100000):\n",
    "    m = LunchCost(x, Px)\n",
    "    MonthlyCosts.append(m)\n",
    "MonthlyCosts.sort() # サンプルを小さな値の順にソート"
   ]
  },
  {
   "cell_type": "code",
   "execution_count": 15,
   "metadata": {},
   "outputs": [
    {
     "data": {
      "text/plain": [
       "15400"
      ]
     },
     "execution_count": 15,
     "metadata": {},
     "output_type": "execute_result"
    }
   ],
   "source": [
    "# 99%の確率で不足することのない昼食代として、99,000番目の要素を確認\n",
    "MonthlyCosts[99000]"
   ]
  },
  {
   "cell_type": "markdown",
   "metadata": {},
   "source": [
    "(この値は、シミュレーションによって多少変化することがあります。)"
   ]
  },
  {
   "cell_type": "markdown",
   "metadata": {},
   "source": [
    "## 11-3"
   ]
  },
  {
   "cell_type": "code",
   "execution_count": 16,
   "metadata": {},
   "outputs": [],
   "source": [
    "# 確率変数xとその確率分布\n",
    "x = [0, 1, 2, 3, 4, 5, 6, 7, 8, 9, 10, 11]\n",
    "Px = [0.007, 0.034, 0.084, 0.140, 0.176, 0.176, 0.147, 0.105, 0.066, 0.037, 0.019, 0.009]"
   ]
  },
  {
   "cell_type": "code",
   "execution_count": 17,
   "metadata": {},
   "outputs": [],
   "source": [
    "# 1ヶ月の在庫数のサンプルを計算する関数\n",
    "def Sales(x, Px):\n",
    "    # 1日の販売数のサンプル（サンプルサイズ３０）をランダムに抽出\n",
    "    x_samples =  random.choices(x, weights=Px, k=30)\n",
    "    # 30個のサンプル要素を合計して、1ヶ月の在庫数のサンプルを返す\n",
    "    return sum(x_samples)"
   ]
  },
  {
   "cell_type": "code",
   "execution_count": 18,
   "metadata": {},
   "outputs": [],
   "source": [
    "# リストcountsを用意し、サンプル要素を100,000個格納\n",
    "counts = []\n",
    "for i in range(100000):\n",
    "    m = Sales(x, Px)\n",
    "    counts.append(m)\n",
    "counts.sort() # サンプルを小さな値の順にソート"
   ]
  },
  {
   "cell_type": "code",
   "execution_count": 19,
   "metadata": {},
   "outputs": [
    {
     "data": {
      "text/plain": [
       "186"
      ]
     },
     "execution_count": 19,
     "metadata": {},
     "output_type": "execute_result"
    }
   ],
   "source": [
    "# 99.9%の確率で不足することのない在庫数として、99,900番目の要素を確認\n",
    "counts[99900]"
   ]
  },
  {
   "cell_type": "markdown",
   "metadata": {},
   "source": [
    "(この値は、シミュレーションによって多少変化することがあります。)"
   ]
  },
  {
   "cell_type": "code",
   "execution_count": null,
   "metadata": {},
   "outputs": [],
   "source": []
  }
 ],
 "metadata": {
  "kernelspec": {
   "display_name": "Python 3",
   "language": "python",
   "name": "python3"
  },
  "language_info": {
   "codemirror_mode": {
    "name": "ipython",
    "version": 3
   },
   "file_extension": ".py",
   "mimetype": "text/x-python",
   "name": "python",
   "nbconvert_exporter": "python",
   "pygments_lexer": "ipython3",
   "version": "3.7.7"
  },
  "toc": {
   "base_numbering": 1,
   "nav_menu": {},
   "number_sections": true,
   "sideBar": true,
   "skip_h1_title": false,
   "title_cell": "Table of Contents",
   "title_sidebar": "Contents",
   "toc_cell": false,
   "toc_position": {},
   "toc_section_display": true,
   "toc_window_display": false
  }
 },
 "nbformat": 4,
 "nbformat_minor": 2
}
