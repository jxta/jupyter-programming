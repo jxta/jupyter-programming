{
 "cells": [
  {
   "cell_type": "markdown",
   "metadata": {},
   "source": [
    "# Jupyter Notebookで始めるプログラミング2019　演習問題　（１１章）"
   ]
  },
  {
   "cell_type": "markdown",
   "metadata": {},
   "source": [
    "## 問11-1 モデルの分布"
   ]
  },
  {
   "cell_type": "markdown",
   "metadata": {},
   "source": [
    "$x$、$y$、$z$は、次の表に示す確率分布を持つ確率変数です。\n",
    "\n",
    "|       $x$ | $P(x)$:確率|\n",
    "|:---- | :--: |\n",
    "|       0 | 0.05|\n",
    "|       1 | 0.10|\n",
    "|       2 | 0.15|\n",
    "|       3 | 0.20|\n",
    "|       4 | 0.20|\n",
    "|       5 | 0.15|\n",
    "|       6 | 0.10|\n",
    "|       7 | 0.05|\n",
    "\n",
    "|$y$ | $P(y)$:確率|\n",
    "|:---- | :--: |\n",
    "|       2 | 0.20|\n",
    "|       3 | 0.25|\n",
    "|       4 | 0.25|\n",
    "|       5 | 0.20|\n",
    "|       6 | 0.10|\n",
    "\n",
    "|$z$ | $P(z)$:確率 |\n",
    "|:---- | :--: |\n",
    "|      6 | 0.20|\n",
    "|       7 | 0.45|\n",
    "|       8 | 0.25|\n",
    "|       9 | 0.10|\n",
    "\n",
    "変数$w$が、\n",
    "$w = 3x + 2y + z$\n",
    "と表されるとします。\n",
    "\n",
    "このとき、モンテカルロ法を用いて$w$の値を100,000回求めヒストグラムに表示し、その平均と分散を求めなさい"
   ]
  },
  {
   "cell_type": "code",
   "execution_count": 2,
   "metadata": {},
   "outputs": [],
   "source": [
    "x = [0, 1, 2, 3, 4, 5, 6, 7] # 確率変数xとその確率分布\n",
    "Px = [0.05, 0.10, 0.15, 0.20, 0.20, 0.15, 0.10,0.05]"
   ]
  },
  {
   "cell_type": "code",
   "execution_count": 3,
   "metadata": {},
   "outputs": [],
   "source": [
    "y = [2, 3, 4, 5, 6] # 確率変数yとその確率分布\n",
    "Py = [0.20, 0.25, 0.25 , 0.20, 0.10]"
   ]
  },
  {
   "cell_type": "code",
   "execution_count": 5,
   "metadata": {},
   "outputs": [],
   "source": [
    "z = [6, 7, 8, 9] # 確率変数zとその確率分布\n",
    "Pz = [0.20, 0.45, 0.25, 0.10]"
   ]
  },
  {
   "cell_type": "code",
   "execution_count": 6,
   "metadata": {},
   "outputs": [],
   "source": [
    "%matplotlib inline\n",
    "import matplotlib.pyplot as plt # グラフを表示するための準備"
   ]
  },
  {
   "cell_type": "code",
   "execution_count": 15,
   "metadata": {},
   "outputs": [],
   "source": [
    "import random # random.choices関数を利用するための準備"
   ]
  },
  {
   "cell_type": "code",
   "execution_count": 18,
   "metadata": {},
   "outputs": [],
   "source": [
    "def f(x, Px, y, Py, z, Pz): # サンプルwiを計算する関数\n",
    "    x_samples = random.choices(x, weights=Px, k=1)\n",
    "    xi = x_samples[0]\n",
    "    y_samples = random.choices(y, weights=Py, k=1)\n",
    "    yi = y_samples[0]\n",
    "    z_samples = random.choices(z, weights=Pz, k=1)\n",
    "    zi = z_samples[0]\n",
    "\n",
    "    wi = 3 * xi + 2 * yi + zi\n",
    "    return wi"
   ]
  },
  {
   "cell_type": "code",
   "execution_count": 21,
   "metadata": {},
   "outputs": [],
   "source": [
    "w = [] # リストwを用意し、サンプルを100,000個格納\n",
    "for i in range(100000):\n",
    "    wi = f(x, Px, y, Py, z, Pz)\n",
    "    w.append(wi)\n",
    "w.sort() # サンプルを小さな値の順にソート"
   ]
  },
  {
   "cell_type": "code",
   "execution_count": 23,
   "metadata": {},
   "outputs": [
    {
     "data": {
      "text/plain": [
       "(array([ 2210.,  5527., 10240., 15313., 18329., 23304., 12847.,  7826.,\n",
       "         3470.,   934.]),\n",
       " array([10. , 13.2, 16.4, 19.6, 22.8, 26. , 29.2, 32.4, 35.6, 38.8, 42. ]),\n",
       " <a list of 10 Patch objects>)"
      ]
     },
     "execution_count": 23,
     "metadata": {},
     "output_type": "execute_result"
    },
    {
     "data": {
      "image/png": "[encoded data removed]",
      "text/plain": [
       "<Figure size 432x288 with 1 Axes>"
      ]
     },
     "metadata": {},
     "output_type": "display_data"
    }
   ],
   "source": [
    "plt.hist(w) # ヒストグラムを作成"
   ]
  },
  {
   "cell_type": "code",
   "execution_count": 24,
   "metadata": {},
   "outputs": [
    {
     "name": "stdout",
     "output_type": "stream",
     "text": [
      "25.25794\n"
     ]
    }
   ],
   "source": [
    "# サンプルの平均値 = サンプルの合計 / サンプルの個数\n",
    "mean = sum(w) / len(w)\n",
    "print(mean)"
   ]
  },
  {
   "cell_type": "markdown",
   "metadata": {},
   "source": [
    "(この値は、シミュレーションによって多少変化することがあります。)"
   ]
  },
  {
   "cell_type": "code",
   "execution_count": 27,
   "metadata": {},
   "outputs": [
    {
     "name": "stdout",
     "output_type": "stream",
     "text": [
      "36.10302695640448\n"
     ]
    }
   ],
   "source": [
    "# サンプルの分散 = 平均値との差分の2乗の合計 / サンプルの個数\n",
    "var = 0\n",
    "for i in range(100000):\n",
    "    var = var + (w[i] - mean)*(w[i] - mean)\n",
    "var = var/len(w)\n",
    "print(var)"
   ]
  },
  {
   "cell_type": "markdown",
   "metadata": {},
   "source": [
    "(この値は、シミュレーションによって多少変化することがあります。)"
   ]
  },
  {
   "cell_type": "markdown",
   "metadata": {},
   "source": [
    "## 問11-2 1ヶ月の食事代の見積もり"
   ]
  },
  {
   "cell_type": "markdown",
   "metadata": {},
   "source": [
    "1回の昼食代は確率的に表すことができると仮定して、1ヶ月（30日）間に必要な昼食代を、モンテカルロ法を使って見積もりなさい。\n",
    "\n",
    "1回の昼食代$x$とその確率分布$P(x)$は、表に示す通りです。\n",
    "\n",
    "|$x$:昼食1回の費用（円）| $P(x)$:確率|\n",
    "|:---- | :--: |\n",
    "|    0   | 0.13|\n",
    "|    100 | 0.00|\n",
    "|    200 | 0.00|\n",
    "|    300 | 0.10|\n",
    "|    400 | 0.23|\n",
    "|    500 | 0.30|\n",
    "|    600 | 0.17|\n",
    "|    700 | 0.00|\n",
    "|    800 | 0.07|\n",
    "\n",
    "なお、「必要な昼食代」とは、99%の確率で不足することはない昼食代と解釈してください。また、30回分の昼食の値段を重複ありでランダムに選ぶには、$\\verb|random.choices(x, weights=Px, k=30)|$を使いなさい。"
   ]
  },
  {
   "cell_type": "code",
   "execution_count": 28,
   "metadata": {},
   "outputs": [],
   "source": [
    "# 確率変数xとその確率分布\n",
    "x = [0, 100, 200, 300, 400, 500, 600, 700, 800]\n",
    "Px = [0.13, 0.0, 0.0, 0.10, 0.23, 0.30, 0.17, 0.0, 0.07]"
   ]
  },
  {
   "cell_type": "code",
   "execution_count": 29,
   "metadata": {},
   "outputs": [],
   "source": [
    "import random # random.choices関数を利用するための準備"
   ]
  },
  {
   "cell_type": "code",
   "execution_count": 30,
   "metadata": {},
   "outputs": [],
   "source": [
    "# 1ヶ月の昼食代のサンプルを計算する関数\n",
    "def LunchCost(x, Px):\n",
    "    # 1日の昼食代のサンプルを30個、ランダムに選択\n",
    "    x_samples = random.choices(x, weights=Px, k=30)\n",
    "    # 30個のサンプルを合計して、1ヶ月の昼食代のサンプルを返す\n",
    "    return sum(x_samples)"
   ]
  },
  {
   "cell_type": "code",
   "execution_count": 31,
   "metadata": {},
   "outputs": [],
   "source": [
    "# リストMonthlyCostsを用意し、サンプルを100,000個格納\n",
    "MonthlyCosts = []\n",
    "for i in range(100000):\n",
    "    m = LunchCost(x, Px)\n",
    "    MonthlyCosts.append(m)\n",
    "MonthlyCosts.sort() # サンプルを小さな値の順にソート"
   ]
  },
  {
   "cell_type": "code",
   "execution_count": 32,
   "metadata": {},
   "outputs": [
    {
     "data": {
      "text/plain": [
       "15400"
      ]
     },
     "execution_count": 32,
     "metadata": {},
     "output_type": "execute_result"
    }
   ],
   "source": [
    "# 99%の確率で不足することのない昼食代として、99,000番目の要素を確認\n",
    "MonthlyCosts[99000]"
   ]
  },
  {
   "cell_type": "markdown",
   "metadata": {},
   "source": [
    "(この値は、シミュレーションによって多少変化することがあります。)"
   ]
  },
  {
   "cell_type": "markdown",
   "metadata": {},
   "source": [
    "## 問11-3 1ヶ月の販売数"
   ]
  },
  {
   "cell_type": "markdown",
   "metadata": {},
   "source": [
    "スーパーマーケットでは、ある商品の1ヶ月（30日）間の販売可能数を推定して、1ヶ月の在庫数を調整しようとしています。\n",
    "\n",
    "ある商品の1日の販売数$x$は確率的に表されれると仮定し、その確率分布$P(x)$は、表に示す通りです。\n",
    "\n",
    "|$x$:ある商品の1日の販売数（個）|  $P(x)$:確率 |\n",
    "|:---- | :--: |\n",
    "|  0  | 0.007|\n",
    "|  1  | 0.034|\n",
    "|  2  | 0.084|\n",
    "|  3  | 0.140|\n",
    "|  4  | 0.176|\n",
    "|  5  | 0.176|\n",
    "|  6  | 0.147|\n",
    "|  7  | 0.105|\n",
    "|  8  | 0.066|\n",
    "|  9  | 0.037|\n",
    "|  10 | 0.019|\n",
    "|  11 | 0.009|\n",
    "\n",
    "\n",
    "モンテカルロ法により1ヶ月間の平均の販売数と、99.9%の確率で在庫不足になることはない在庫数を推定しなさい。"
   ]
  },
  {
   "cell_type": "code",
   "execution_count": 33,
   "metadata": {},
   "outputs": [],
   "source": [
    "# 確率変数xとその確率分布\n",
    "x = [0, 1, 2, 3, 4, 5, 6, 7, 8, 9, 10, 11]\n",
    "Px = [0.007, 0.034, 0.084, 0.140, 0.176, 0.176, 0.147, 0.105, 0.066, 0.037, 0.019, 0.009]"
   ]
  },
  {
   "cell_type": "code",
   "execution_count": 34,
   "metadata": {},
   "outputs": [],
   "source": [
    "# 1ヶ月の在庫数のサンプルを計算する関数\n",
    "def Sales(x, Px):\n",
    "    # 1日の販売数のサンプルを30個、ランダムに選択\n",
    "    x_samples =  random.choices(x, weights=Px, k=30)\n",
    "    # 30個のサンプルを合計して、1ヶ月の在庫数のサンプルを返す\n",
    "    return sum(x_samples)"
   ]
  },
  {
   "cell_type": "code",
   "execution_count": 35,
   "metadata": {},
   "outputs": [],
   "source": [
    "# リストcountsを用意し、サンプルを100,000個格納\n",
    "counts = []\n",
    "for i in range(100000):\n",
    "    m = Sales(x, Px)\n",
    "    counts.append(m)\n",
    "counts.sort() # サンプルを小さな値の順にソート\n"
   ]
  },
  {
   "cell_type": "code",
   "execution_count": 36,
   "metadata": {},
   "outputs": [
    {
     "data": {
      "text/plain": [
       "187"
      ]
     },
     "execution_count": 36,
     "metadata": {},
     "output_type": "execute_result"
    }
   ],
   "source": [
    "# 99.9%の確率で不足することのない在庫数として、99,900番目の要素を確認\n",
    "counts[99900]"
   ]
  },
  {
   "cell_type": "markdown",
   "metadata": {},
   "source": [
    "(この値は、シミュレーションによって多少変化することがあります。)"
   ]
  },
  {
   "cell_type": "code",
   "execution_count": null,
   "metadata": {},
   "outputs": [],
   "source": []
  }
 ],
 "metadata": {
  "kernelspec": {
   "display_name": "Python 3",
   "language": "python",
   "name": "python3"
  },
  "language_info": {
   "codemirror_mode": {
    "name": "ipython",
    "version": 3
   },
   "file_extension": ".py",
   "mimetype": "text/x-python",
   "name": "python",
   "nbconvert_exporter": "python",
   "pygments_lexer": "ipython3",
   "version": "3.6.5"
  },
  "toc": {
   "base_numbering": 1,
   "nav_menu": {},
   "number_sections": true,
   "sideBar": true,
   "skip_h1_title": false,
   "title_cell": "Table of Contents",
   "title_sidebar": "Contents",
   "toc_cell": false,
   "toc_position": {},
   "toc_section_display": true,
   "toc_window_display": false
  }
 },
 "nbformat": 4,
 "nbformat_minor": 2
}
