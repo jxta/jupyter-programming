{
 "cells": [
  {
   "cell_type": "markdown",
   "metadata": {},
   "source": [
    "# Jupyter Notebookで始めるプログラミング2019　演習問題　（３章）"
   ]
  },
  {
   "cell_type": "markdown",
   "metadata": {},
   "source": [
    "## 問3-1 誕生した世紀の判定"
   ]
  },
  {
   "cell_type": "markdown",
   "metadata": {},
   "source": [
    " 以下の手順で、20世紀生まれかどうか判断するプログラムを作成しなさい。\n",
    "    \n",
    "1. 変数yにinput()で年齢を入力する。\n",
    "      \n",
    "2. 年齢をもとに生年を計算する。\n",
    "          \n",
    "3. 生年をもとに世紀を判断する\n",
    " - もし20世紀生まれの場合、「20世紀生まれ」と表示しなさい。\n",
    " - それ以外の場合、「21世紀生まれ」と表示しなさい。\n",
    "\n",
    "\n",
    "ヒント：20世紀は2000年までです。"
   ]
  },
  {
   "cell_type": "code",
   "execution_count": null,
   "metadata": {},
   "outputs": [],
   "source": [
    "y = int(input(\"年齢？\"))\n",
    "by = 2019 - y\n",
    "if by <= 2000:\n",
    "    print(\"20世紀生まれ\")\n",
    "else:\n",
    "    print(\"21世紀生まれ\")"
   ]
  },
  {
   "cell_type": "markdown",
   "metadata": {},
   "source": [
    "## 問3-2 テストの合否判定"
   ]
  },
  {
   "cell_type": "markdown",
   "metadata": {},
   "source": [
    "以下の手順で、２回のテストの結果から、合否判定をするプログラムを作成しなさい。\n",
    "    \n",
    "1. １回目のテストの点数aと２回目のテストの点数bを入力する。\n",
    "    \n",
    "2. aとbの平均を求めhとする。\n",
    "\n",
    "3. a, b, hを使って合格判定を行う\n",
    "  - a,b とも50点以上、かつ平均60点以上の場合に\"合格\"と平均点を表示する。\n",
    "  - それ以外の場合には、\"不合格\"と表示する。"
   ]
  },
  {
   "cell_type": "code",
   "execution_count": null,
   "metadata": {},
   "outputs": [],
   "source": [
    "a = int(input(\"1回目の点数？\"))\n",
    "b = int(input(\"2回目の点数？\"))\n",
    "h = (a + b) / 2\n",
    "if a >= 50 and b >= 50 and h >= 60:\n",
    "    print(\"合格\", h)\n",
    "else:\n",
    "    print(\"不合格\")"
   ]
  },
  {
   "cell_type": "markdown",
   "metadata": {},
   "source": [
    "## 問3-3 BMIと適正体重の判定"
   ]
  },
  {
   "cell_type": "markdown",
   "metadata": {},
   "source": [
    "以下の手順で、身長と体重からBMIと適正体重を計算するプログラムを作成しなさい。\n",
    "    \n",
    "1. 身長h (m)と体重w(kg)を入力する\n",
    "    \n",
    "2. 以下の式からBMI ($bmi$)を計算する\n",
    "\n",
    "      $bmi = \\frac{w}{h^2}$\n",
    "\n",
    "3. 以下の式から適正体重 ($sw$)を計算する\n",
    "\n",
    "      $sw = h^2 \\times 22$\n",
    "\n",
    "4. BMIをもとに以下の表から肥満の判断を行い、hanteiに結果を入れる\n",
    "      \n",
    "5. 判定結果と標準体重を表示する\n",
    "      \n",
    "6. 体重と標準体重の差を表示する\n",
    "\n",
    "肥満の判定基準\n",
    "\n",
    "| 判定 | 条件 |\n",
    "|:-------:|:-----------:|\n",
    "| 低体重|BMIが18.5より小さい場合 |\n",
    "|普通体重 | BMIが18.5以上、かつ25より小さい場合|\n",
    "|肥満度１| BMIが25以上、かつ30より小さい場合 |\n",
    "|肥満度２| BMIが30以上、かつ35より小さい場合 |\n",
    "|肥満度３| BMIが35以上、かつ40より小さい場合 |\n",
    "|肥満度４| BMIが40以上の場合 |"
   ]
  },
  {
   "cell_type": "code",
   "execution_count": null,
   "metadata": {},
   "outputs": [],
   "source": [
    "h = float(input(\"身長(m)？\"))\n",
    "w = float(input(\"体重(Kg)？\"))\n",
    "bmi = w / h / h\n",
    "sw = h * h * 22\n",
    "if bmi< 18.5:\n",
    "    print(\"低体重\")\n",
    "elif bmi < 25:\n",
    "    print(\"普通体重\")\n",
    "elif bmi < 30:\n",
    "    print(\"肥満度１\")\n",
    "elif bmi < 35:\n",
    "    print(\"肥満度２\")\n",
    "elif bmi < 40:\n",
    "    print(\"肥満度３\")\n",
    "else:\n",
    "    print(\"肥満度４\")\n",
    "print(\"標準体重\", sw)\n",
    "print(\"標準体重との差\", w - sw)"
   ]
  },
  {
   "cell_type": "code",
   "execution_count": null,
   "metadata": {},
   "outputs": [],
   "source": []
  }
 ],
 "metadata": {
  "kernelspec": {
   "display_name": "Python 3",
   "language": "python",
   "name": "python3"
  },
  "language_info": {
   "codemirror_mode": {
    "name": "ipython",
    "version": 3
   },
   "file_extension": ".py",
   "mimetype": "text/x-python",
   "name": "python",
   "nbconvert_exporter": "python",
   "pygments_lexer": "ipython3",
   "version": "3.6.5"
  },
  "toc": {
   "base_numbering": 1,
   "nav_menu": {},
   "number_sections": true,
   "sideBar": true,
   "skip_h1_title": false,
   "title_cell": "Table of Contents",
   "title_sidebar": "Contents",
   "toc_cell": false,
   "toc_position": {},
   "toc_section_display": true,
   "toc_window_display": false
  }
 },
 "nbformat": 4,
 "nbformat_minor": 2
}
