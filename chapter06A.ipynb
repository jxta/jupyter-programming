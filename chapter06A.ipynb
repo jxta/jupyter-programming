{
 "cells": [
  {
   "cell_type": "markdown",
   "metadata": {},
   "source": [
    "# Jupyter Notebookで始めるプログラミング2019　演習問題　（６章）"
   ]
  },
  {
   "cell_type": "markdown",
   "metadata": {},
   "source": [
    "## 問6-1 素数"
   ]
  },
  {
   "cell_type": "markdown",
   "metadata": {},
   "source": [
    "次の手順で素数を求る関数を定義し素数を求めなさい。ただし、素数とは、「1とその数自身以外に約数がない正の整数」を指します。\n",
    "\n",
    "1.  素数かどうかを返す関数 isPrime()を定義する\n",
    "1. isPrime()を使って、1から100までの素数を求める\n",
    "      "
   ]
  },
  {
   "cell_type": "code",
   "execution_count": 1,
   "metadata": {},
   "outputs": [
    {
     "name": "stdout",
     "output_type": "stream",
     "text": [
      "2 3 5 7 11 13 17 19 23 29 31 37 41 43 47 53 59 61 67 71 73 79 83 89 97 "
     ]
    }
   ],
   "source": [
    "def isPrime(n):\n",
    "    if (n < 2):\n",
    "        return False\n",
    "    for i in range(2,n):\n",
    "        if ((n %i ) == 0):\n",
    "            return False\n",
    "    return True\n",
    "\n",
    "for i in range(1,101):\n",
    "    if isPrime(i):\n",
    "        print (i, end=\" \")\n",
    "        "
   ]
  },
  {
   "cell_type": "markdown",
   "metadata": {},
   "source": [
    "## 問6-2 素因数分解"
   ]
  },
  {
   "cell_type": "markdown",
   "metadata": {},
   "source": [
    "次の手順で素因数分解をする関数を定義しなさい。\n",
    "\n",
    "1. 約数を表示する関数$divisor()$を定義する\n",
    "\n",
    "  ただし、約数とは「ある整数に対してそれを割り切ることのできる整数」を指します\n",
    "  \n",
    "1. 約数の総数を求める関数$n\\_divisor()$を定義する\n",
    "\n",
    "1. 因数分解した結果を表示する関数$factorization()$を定義する。\n",
    "\n",
    "1. 1001から1009まで因数分解の結果を表示する"
   ]
  },
  {
   "cell_type": "code",
   "execution_count": 2,
   "metadata": {},
   "outputs": [],
   "source": [
    "def divisor(n):\n",
    "    for i in range(1, n+1):\n",
    "        if ((n % i) == 0):\n",
    "            print (i, end=\" \")\n",
    "            "
   ]
  },
  {
   "cell_type": "code",
   "execution_count": 3,
   "metadata": {},
   "outputs": [
    {
     "name": "stdout",
     "output_type": "stream",
     "text": [
      "1 2 3 4 5 6 10 12 15 20 30 60 "
     ]
    }
   ],
   "source": [
    "divisor(60)"
   ]
  },
  {
   "cell_type": "code",
   "execution_count": 6,
   "metadata": {},
   "outputs": [],
   "source": [
    "def n_divisor(n):\n",
    "    cnt = 0\n",
    "    for i in range(1, n+1):\n",
    "        if ((n % i) == 0):\n",
    "            cnt += 1\n",
    "    return (cnt)\n"
   ]
  },
  {
   "cell_type": "code",
   "execution_count": 7,
   "metadata": {},
   "outputs": [
    {
     "data": {
      "text/plain": [
       "12"
      ]
     },
     "execution_count": 7,
     "metadata": {},
     "output_type": "execute_result"
    }
   ],
   "source": [
    "n_divisor(60)\n"
   ]
  },
  {
   "cell_type": "code",
   "execution_count": 9,
   "metadata": {},
   "outputs": [],
   "source": [
    "def factorization(n):\n",
    "    if (isPrime(n)):\n",
    "        print(n, end=\" \")\n",
    "        return\n",
    "    for i in range(2, n):\n",
    "        if ((n % i)== 0):\n",
    "            print(i, end=\" \")\n",
    "            factorization(int(n/i))\n",
    "            break\n",
    "            "
   ]
  },
  {
   "cell_type": "code",
   "execution_count": 10,
   "metadata": {},
   "outputs": [
    {
     "name": "stdout",
     "output_type": "stream",
     "text": [
      "2 3 5"
     ]
    }
   ],
   "source": [
    "factorization(30)\n"
   ]
  },
  {
   "cell_type": "code",
   "execution_count": 13,
   "metadata": {},
   "outputs": [
    {
     "name": "stdout",
     "output_type": "stream",
     "text": [
      "1001 7 11 13\n",
      "1002 2 3 167\n",
      "1003 17 59\n",
      "1004 2 2 251\n",
      "1005 3 5 67\n",
      "1006 2 503\n",
      "1007 19 53\n",
      "1008 2 2 2 2 3 3 7\n",
      "1009 1009\n"
     ]
    }
   ],
   "source": [
    "for i in range(1001, 1010):\n",
    "    print(i, end=\" \")\n",
    "    factorization(i)\n",
    "    print()\n",
    "    "
   ]
  },
  {
   "cell_type": "markdown",
   "metadata": {},
   "source": [
    "## 問6-3  階乗"
   ]
  },
  {
   "cell_type": "markdown",
   "metadata": {},
   "source": [
    "6.4章で定義した関数$fact()$を使って、0から100までの階乗を次の形式で出力しなさい。\n",
    "\n",
    "    fact(数字) = 数字\n",
    "\n",
    "    fact(0) = 1\n",
    "    fact(1) = 1\n",
    "    fact(2) = 2\n",
    "        ....\n"
   ]
  },
  {
   "cell_type": "code",
   "execution_count": 20,
   "metadata": {},
   "outputs": [
    {
     "name": "stdout",
     "output_type": "stream",
     "text": [
      "fact( 0 )= 1\n",
      "fact( 1 )= 1\n",
      "fact( 2 )= 2\n",
      "fact( 3 )= 6\n",
      "fact( 4 )= 24\n",
      "fact( 5 )= 120\n",
      "fact( 6 )= 720\n",
      "fact( 7 )= 5040\n",
      "fact( 8 )= 40320\n",
      "fact( 9 )= 362880\n",
      "fact( 10 )= 3628800\n",
      "fact( 11 )= 39916800\n",
      "fact( 12 )= 479001600\n",
      "fact( 13 )= 6227020800\n",
      "fact( 14 )= 87178291200\n",
      "fact( 15 )= 1307674368000\n",
      "fact( 16 )= 20922789888000\n",
      "fact( 17 )= 355687428096000\n",
      "fact( 18 )= 6402373705728000\n",
      "fact( 19 )= 121645100408832000\n",
      "fact( 20 )= 2432902008176640000\n"
     ]
    }
   ],
   "source": [
    "def fact(n):\n",
    "    if (n == 0):\n",
    "        return 1\n",
    "    else:\n",
    "        return n * fact(n-1)\n",
    "    \n",
    "for i in range(21):\n",
    "    print (\"fact(\", i, \")=\", fact(i))\n",
    "    "
   ]
  },
  {
   "cell_type": "markdown",
   "metadata": {},
   "source": [
    "## 問6-4 フィボナッチ数"
   ]
  },
  {
   "cell_type": "markdown",
   "metadata": {},
   "source": [
    "関数fib()を使って、fib(0)からfib(20)までを次の形式で出力しなさい。\n",
    "\n",
    "  fib(数字) = 数字\n",
    "\n",
    "    fib( 0 )= 0\n",
    "    fib( 1 )= 1\n",
    "    fib( 2 )= 1\n",
    "    fib( 3 )= 2\n",
    "    "
   ]
  },
  {
   "cell_type": "code",
   "execution_count": 16,
   "metadata": {},
   "outputs": [
    {
     "name": "stdout",
     "output_type": "stream",
     "text": [
      "fib( 0 )= 0\n",
      "fib( 1 )= 1\n",
      "fib( 2 )= 1\n",
      "fib( 3 )= 2\n",
      "fib( 4 )= 3\n",
      "fib( 5 )= 5\n",
      "fib( 6 )= 8\n",
      "fib( 7 )= 13\n",
      "fib( 8 )= 21\n",
      "fib( 9 )= 34\n",
      "fib( 10 )= 55\n",
      "fib( 11 )= 89\n",
      "fib( 12 )= 144\n",
      "fib( 13 )= 233\n",
      "fib( 14 )= 377\n",
      "fib( 15 )= 610\n",
      "fib( 16 )= 987\n",
      "fib( 17 )= 1597\n",
      "fib( 18 )= 2584\n",
      "fib( 19 )= 4181\n",
      "fib( 20 )= 6765\n"
     ]
    }
   ],
   "source": [
    "def fib(x):\n",
    "    if (x == 0):\n",
    "        return 0\n",
    "    if (x == 1):\n",
    "        return 1\n",
    "    return fib(x-1) + fib(x-2)\n",
    "\n",
    "for i in range(21):\n",
    "    print (\"fib(\", i, \")=\", fib(i))\n",
    "    "
   ]
  },
  {
   "cell_type": "markdown",
   "metadata": {},
   "source": [
    "## 問6-5 フィボナッチ関数の計算量"
   ]
  },
  {
   "cell_type": "markdown",
   "metadata": {},
   "source": [
    "関数fib(x)の計算量は次の式で表すことができます。\n",
    "\n",
    "$$\n",
    "    \\left\\{ \\begin{array}{l} \n",
    "      fibcall(0) = 1 \\\\\n",
    "      fibcall(1) = 1 \\\\\n",
    "      fibcall(x) = 1 + fibcall(x-1) + fibcall(x-2) ,\\ for\\ x \\ge 2\\\\\n",
    "    \\end{array} \\right.\n",
    "$$\n",
    "    \n",
    "1.  上記の計算を行う関数$fibcall()$を定義する\n",
    "1.  $fibcall()$を使って、1から30まで呼び出し数を求める\n",
    "\n"
   ]
  },
  {
   "cell_type": "code",
   "execution_count": 17,
   "metadata": {},
   "outputs": [],
   "source": [
    "def fibcall(x):\n",
    "    if (x == 0):\n",
    "        return 1\n",
    "    if (x == 1):\n",
    "        return 1\n",
    "    return 1 +fibcall(x-1) + fibcall(x-2)"
   ]
  },
  {
   "cell_type": "code",
   "execution_count": 18,
   "metadata": {},
   "outputs": [
    {
     "name": "stdout",
     "output_type": "stream",
     "text": [
      "fibcall( 0 )= 1\n",
      "fibcall( 1 )= 1\n",
      "fibcall( 2 )= 3\n",
      "fibcall( 3 )= 5\n",
      "fibcall( 4 )= 9\n",
      "fibcall( 5 )= 15\n",
      "fibcall( 6 )= 25\n",
      "fibcall( 7 )= 41\n",
      "fibcall( 8 )= 67\n",
      "fibcall( 9 )= 109\n",
      "fibcall( 10 )= 177\n",
      "fibcall( 11 )= 287\n",
      "fibcall( 12 )= 465\n",
      "fibcall( 13 )= 753\n",
      "fibcall( 14 )= 1219\n",
      "fibcall( 15 )= 1973\n",
      "fibcall( 16 )= 3193\n",
      "fibcall( 17 )= 5167\n",
      "fibcall( 18 )= 8361\n",
      "fibcall( 19 )= 13529\n",
      "fibcall( 20 )= 21891\n",
      "fibcall( 21 )= 35421\n",
      "fibcall( 22 )= 57313\n",
      "fibcall( 23 )= 92735\n",
      "fibcall( 24 )= 150049\n",
      "fibcall( 25 )= 242785\n",
      "fibcall( 26 )= 392835\n",
      "fibcall( 27 )= 635621\n",
      "fibcall( 28 )= 1028457\n",
      "fibcall( 29 )= 1664079\n",
      "fibcall( 30 )= 2692537\n"
     ]
    }
   ],
   "source": [
    "for i in range(31):\n",
    "    print (\"fibcall(\", i, \")=\", fibcall(i))"
   ]
  },
  {
   "cell_type": "markdown",
   "metadata": {},
   "source": [
    "6-6"
   ]
  },
  {
   "cell_type": "code",
   "execution_count": 19,
   "metadata": {},
   "outputs": [
    {
     "name": "stdout",
     "output_type": "stream",
     "text": [
      "fib( 0 )= 0 fibcall( 0 )= 1\n",
      "fib( 1 )= 1 fibcall( 1 )= 1\n",
      "fib( 2 )= 1 fibcall( 2 )= 3\n",
      "fib( 3 )= 2 fibcall( 3 )= 5\n",
      "fib( 4 )= 3 fibcall( 4 )= 9\n",
      "fib( 5 )= 5 fibcall( 5 )= 15\n",
      "fib( 6 )= 8 fibcall( 6 )= 25\n",
      "fib( 7 )= 13 fibcall( 7 )= 41\n",
      "fib( 8 )= 21 fibcall( 8 )= 67\n",
      "fib( 9 )= 34 fibcall( 9 )= 109\n",
      "fib( 10 )= 55 fibcall( 10 )= 177\n",
      "fib( 11 )= 89 fibcall( 11 )= 287\n",
      "fib( 12 )= 144 fibcall( 12 )= 465\n",
      "fib( 13 )= 233 fibcall( 13 )= 753\n",
      "fib( 14 )= 377 fibcall( 14 )= 1219\n",
      "fib( 15 )= 610 fibcall( 15 )= 1973\n",
      "fib( 16 )= 987 fibcall( 16 )= 3193\n",
      "fib( 17 )= 1597 fibcall( 17 )= 5167\n",
      "fib( 18 )= 2584 fibcall( 18 )= 8361\n",
      "fib( 19 )= 4181 fibcall( 19 )= 13529\n",
      "fib( 20 )= 6765 fibcall( 20 )= 21891\n",
      "fib( 21 )= 10946 fibcall( 21 )= 35421\n",
      "fib( 22 )= 17711 fibcall( 22 )= 57313\n",
      "fib( 23 )= 28657 fibcall( 23 )= 92735\n",
      "fib( 24 )= 46368 fibcall( 24 )= 150049\n",
      "fib( 25 )= 75025 fibcall( 25 )= 242785\n",
      "fib( 26 )= 121393 fibcall( 26 )= 392835\n",
      "fib( 27 )= 196418 fibcall( 27 )= 635621\n",
      "fib( 28 )= 317811 fibcall( 28 )= 1028457\n",
      "fib( 29 )= 514229 fibcall( 29 )= 1664079\n",
      "fib( 30 )= 832040 fibcall( 30 )= 2692537\n"
     ]
    }
   ],
   "source": [
    "for i in range(31):\n",
    "    print (\"fib(\", i, \")=\", fib(i), \"fibcall(\", i, \")=\", fibcall(i))"
   ]
  },
  {
   "cell_type": "code",
   "execution_count": null,
   "metadata": {},
   "outputs": [],
   "source": []
  }
 ],
 "metadata": {
  "kernelspec": {
   "display_name": "Python 3",
   "language": "python",
   "name": "python3"
  },
  "language_info": {
   "codemirror_mode": {
    "name": "ipython",
    "version": 3
   },
   "file_extension": ".py",
   "mimetype": "text/x-python",
   "name": "python",
   "nbconvert_exporter": "python",
   "pygments_lexer": "ipython3",
   "version": "3.6.5"
  },
  "toc": {
   "base_numbering": 1,
   "nav_menu": {},
   "number_sections": true,
   "sideBar": true,
   "skip_h1_title": false,
   "title_cell": "Table of Contents",
   "title_sidebar": "Contents",
   "toc_cell": false,
   "toc_position": {},
   "toc_section_display": true,
   "toc_window_display": false
  }
 },
 "nbformat": 4,
 "nbformat_minor": 2
}
