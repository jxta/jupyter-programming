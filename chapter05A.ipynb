{
 "cells": [
  {
   "cell_type": "markdown",
   "metadata": {},
   "source": [
    "# Jupyter Notebookで始めるプログラミング　演習問題　（５章）"
   ]
  },
  {
   "cell_type": "markdown",
   "metadata": {},
   "source": [
    "## 5-1"
   ]
  },
  {
   "cell_type": "code",
   "execution_count": 1,
   "metadata": {},
   "outputs": [],
   "source": [
    "data = [ 63, 26, 91, 99, 38, 21, 19, 99, 87, 44, 62,\n",
    "       45, 2, 23, 61, 7, 61, 59, 55, 8, 73, 6, 63, 22,\n",
    "       25, 20, 4, 69, 17, 44, 66, 90, 77, 29, 53, 44, 23,\n",
    "       1, 57, 0, 83, 89, 66, 79, 99, 26, 68, 89, 84, 60]"
   ]
  },
  {
   "cell_type": "code",
   "execution_count": 2,
   "metadata": {},
   "outputs": [
    {
     "name": "stdout",
     "output_type": "stream",
     "text": [
      "V= 896.4335999999998\n"
     ]
    }
   ],
   "source": [
    "ave = sum(data) / len(data) # 平均値\n",
    "total = 0\n",
    "for i in data:\n",
    "    total += (ave - i) ** 2\n",
    "print(\"V=\", total / len(data))"
   ]
  },
  {
   "cell_type": "markdown",
   "metadata": {},
   "source": [
    "## 5-2"
   ]
  },
  {
   "cell_type": "code",
   "execution_count": 9,
   "metadata": {},
   "outputs": [],
   "source": [
    "data = [ 7.09, 3.5, 3.36, 7.71, 6.38, 7.9, 6.18, 5.54,\n",
    "       0.21, 5.58, 1.43, 8.31, 5.41, 5.13, 1.02, 9.67, 5.17,\n",
    "       9.65, 9.97, 6.7, 5.97, 5.43, 4.55, 6.36, 2.15, 4.34,\n",
    "       8.21, 8.32, 6.72, 9.57, 4.31, 2.04, 8.02, 3.06, 6.13,\n",
    "       3.61, 6.92, 8.82, 7.08, 0.51, 5.74, 9.64, 0.11, 9.85,\n",
    "       5.42, 6.32, 0.67, 6.46, 1.9, 2.43 ]"
   ]
  },
  {
   "cell_type": "code",
   "execution_count": 10,
   "metadata": {},
   "outputs": [
    {
     "name": "stdout",
     "output_type": "stream",
     "text": [
      "sigma= 2.7644775347251422\n"
     ]
    }
   ],
   "source": [
    "import math\n",
    "ave = sum(data) / len(data) # 平均値\n",
    "total = 0\n",
    "for i in data:\n",
    "    total += (ave - i) ** 2\n",
    "print(\"sigma=\", math.sqrt(total / len(data)))"
   ]
  },
  {
   "cell_type": "markdown",
   "metadata": {},
   "source": [
    "## 5-3"
   ]
  },
  {
   "cell_type": "code",
   "execution_count": 11,
   "metadata": {},
   "outputs": [
    {
     "data": {
      "text/plain": [
       "[['札幌', 8.0],\n",
       " ['仙台', 11.9],\n",
       " ['東京', 15.3],\n",
       " ['名古屋', 14.9],\n",
       " ['大阪', 16.2],\n",
       " ['福岡', 16.0],\n",
       " ['那覇', 22.4]]"
      ]
     },
     "execution_count": 11,
     "metadata": {},
     "output_type": "execute_result"
    }
   ],
   "source": [
    "cityinfo =  [ [\"札幌\", 8.0], [\"仙台\", 11.9], [\"東京\", 15.3], [\"名古屋\", 14.9], [\"大阪\", 16.2], [\"福岡\", 16.0], [\"那覇\", 22.4]]\n",
    "cityinfo"
   ]
  },
  {
   "cell_type": "code",
   "execution_count": 12,
   "metadata": {},
   "outputs": [
    {
     "name": "stdout",
     "output_type": "stream",
     "text": [
      "8.0\n"
     ]
    }
   ],
   "source": [
    "md = 100  # 最小値の初期値\n",
    "for city in cityinfo:\n",
    "    if city[1] < md:\n",
    "        md = city[1]\n",
    "print (md)"
   ]
  },
  {
   "cell_type": "markdown",
   "metadata": {},
   "source": [
    "## 5-4"
   ]
  },
  {
   "cell_type": "code",
   "execution_count": 14,
   "metadata": {},
   "outputs": [
    {
     "name": "stdout",
     "output_type": "stream",
     "text": [
      "那覇 22.4\n"
     ]
    }
   ],
   "source": [
    "md = -100  # 最大値の初期値\n",
    "c = \"\" # 都市名を記録する変数\n",
    "for city in cityinfo:\n",
    "    if city[1] > md:\n",
    "        md = city[1]\n",
    "        c = city[0]\n",
    "print (c, md)"
   ]
  },
  {
   "cell_type": "markdown",
   "metadata": {},
   "source": [
    "## 5-5"
   ]
  },
  {
   "cell_type": "code",
   "execution_count": 16,
   "metadata": {},
   "outputs": [],
   "source": [
    "t = []  # 九九の表を格納するリストのリスト\n",
    "for dan in range (1,10):\n",
    "    g =[] # 行の答えを格納するリスト\n",
    "    for gyo in range (1,10):\n",
    "        g.append(dan * gyo)\n",
    "    t.append(g) # 行を追加する"
   ]
  },
  {
   "cell_type": "code",
   "execution_count": 17,
   "metadata": {},
   "outputs": [
    {
     "name": "stdout",
     "output_type": "stream",
     "text": [
      "行？3\n",
      "段？5\n",
      "15\n"
     ]
    }
   ],
   "source": [
    "gyo = int(input(\"行？\"))\n",
    "dan = int(input(\"段？\"))\n",
    "print (t[gyo-1][dan-1])   # インデクスは0から始まるので1を引く"
   ]
  },
  {
   "cell_type": "markdown",
   "metadata": {},
   "source": [
    "## 5-6"
   ]
  },
  {
   "cell_type": "code",
   "execution_count": 18,
   "metadata": {},
   "outputs": [],
   "source": [
    "temperature =  { \"札幌\":8.0, \"仙台\": 11.9, \"東京\": 15.3, \"名古屋\": 14.9, \"大阪\": 16.2, \"福岡\": 16.0, \"那覇\": 22.4}"
   ]
  },
  {
   "cell_type": "code",
   "execution_count": 19,
   "metadata": {},
   "outputs": [
    {
     "data": {
      "text/plain": [
       "{'仙台': 11.9,\n",
       " '名古屋': 14.9,\n",
       " '大阪': 16.2,\n",
       " '札幌': 8.0,\n",
       " '東京': 15.3,\n",
       " '福岡': 16.0,\n",
       " '那覇': 22.4}"
      ]
     },
     "execution_count": 19,
     "metadata": {},
     "output_type": "execute_result"
    }
   ],
   "source": [
    "temperature"
   ]
  },
  {
   "cell_type": "code",
   "execution_count": 20,
   "metadata": {},
   "outputs": [
    {
     "name": "stdout",
     "output_type": "stream",
     "text": [
      "都市名？室蘭\n",
      "都市名が見つかりません 室蘭\n",
      "平均気温を入力してください？2\n"
     ]
    }
   ],
   "source": [
    "k = input(\"都市名？\")\n",
    "if k in temperature:\n",
    "    print(k, temperature[k])\n",
    "else:\n",
    "    print(\"都市名が見つかりません\",k)\n",
    "    d = float(input(\"平均気温を入力してください？\"))\n",
    "    temperature[k] = d   "
   ]
  },
  {
   "cell_type": "code",
   "execution_count": 21,
   "metadata": {},
   "outputs": [
    {
     "data": {
      "text/plain": [
       "{'仙台': 11.9,\n",
       " '名古屋': 14.9,\n",
       " '大阪': 16.2,\n",
       " '室蘭': 2.0,\n",
       " '札幌': 8.0,\n",
       " '東京': 15.3,\n",
       " '福岡': 16.0,\n",
       " '那覇': 22.4}"
      ]
     },
     "execution_count": 21,
     "metadata": {},
     "output_type": "execute_result"
    }
   ],
   "source": [
    "temperature"
   ]
  },
  {
   "cell_type": "code",
   "execution_count": null,
   "metadata": {},
   "outputs": [],
   "source": []
  }
 ],
 "metadata": {
  "kernelspec": {
   "display_name": "Python 3",
   "language": "python",
   "name": "python3"
  },
  "language_info": {
   "codemirror_mode": {
    "name": "ipython",
    "version": 3
   },
   "file_extension": ".py",
   "mimetype": "text/x-python",
   "name": "python",
   "nbconvert_exporter": "python",
   "pygments_lexer": "ipython3",
   "version": "3.5.5"
  },
  "toc": {
   "base_numbering": 1,
   "nav_menu": {},
   "number_sections": true,
   "sideBar": true,
   "skip_h1_title": false,
   "title_cell": "Table of Contents",
   "title_sidebar": "Contents",
   "toc_cell": false,
   "toc_position": {},
   "toc_section_display": true,
   "toc_window_display": false
  }
 },
 "nbformat": 4,
 "nbformat_minor": 2
}
