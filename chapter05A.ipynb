{
 "cells": [
  {
   "cell_type": "markdown",
   "metadata": {},
   "source": [
    "# Jupyter Notebookで始めるプログラミング2019　演習問題　（５章）"
   ]
  },
  {
   "cell_type": "markdown",
   "metadata": {},
   "source": [
    "## 問5-1 リストのリストの計算1"
   ]
  },
  {
   "cell_type": "markdown",
   "metadata": {},
   "source": [
    "次の、[都市名、平均気温]のリストから平均気温の一番低い値を算出するプログラムを作成しなさい。\n",
    "\n",
    "cityinfo =  [ [\"札幌\", 8.0], [\"仙台\", 11.9], [\"東京\", 15.3], [\"名古屋\", 14.9], [\"大阪\", 16.2], [\"福岡\", 16.0], [\"那覇\", 22.4]]"
   ]
  },
  {
   "cell_type": "code",
   "execution_count": 1,
   "metadata": {},
   "outputs": [
    {
     "data": {
      "text/plain": [
       "[['札幌', 8.0],\n",
       " ['仙台', 11.9],\n",
       " ['東京', 15.3],\n",
       " ['名古屋', 14.9],\n",
       " ['大阪', 16.2],\n",
       " ['福岡', 16.0],\n",
       " ['那覇', 22.4]]"
      ]
     },
     "execution_count": 1,
     "metadata": {},
     "output_type": "execute_result"
    }
   ],
   "source": [
    "cityinfo =  [ [\"札幌\", 8.0], [\"仙台\", 11.9], [\"東京\", 15.3], [\"名古屋\", 14.9], [\"大阪\", 16.2], [\"福岡\", 16.0], [\"那覇\", 22.4]]\n",
    "cityinfo"
   ]
  },
  {
   "cell_type": "code",
   "execution_count": 3,
   "metadata": {},
   "outputs": [
    {
     "name": "stdout",
     "output_type": "stream",
     "text": [
      "8.0\n"
     ]
    }
   ],
   "source": [
    "md = 100  # 最小値の初期値\n",
    "for city in cityinfo:\n",
    "    if city[1] < md:\n",
    "        md = city[1]\n",
    "print (md)"
   ]
  },
  {
   "cell_type": "markdown",
   "metadata": {},
   "source": [
    "## 問5-2 リストのリストの計算2"
   ]
  },
  {
   "cell_type": "markdown",
   "metadata": {},
   "source": [
    "上のリストから平均気温の一番高い都市とその平均気温を算出するプログラムを作成しなさい。"
   ]
  },
  {
   "cell_type": "code",
   "execution_count": 6,
   "metadata": {},
   "outputs": [
    {
     "name": "stdout",
     "output_type": "stream",
     "text": [
      "那覇 22.4\n"
     ]
    }
   ],
   "source": [
    "md = -100  # 最大値の初期値\n",
    "c = \"\"　# 都市名を記録する変数\n",
    "for city in cityinfo:\n",
    "    if city[1] > md:\n",
    "        md = city[1]\n",
    "        c = city[0]\n",
    "print (c, md)"
   ]
  },
  {
   "cell_type": "markdown",
   "metadata": {},
   "source": [
    "## 問5-3 リストのリストを使った九九の表作成"
   ]
  },
  {
   "cell_type": "markdown",
   "metadata": {},
   "source": [
    "リストのリストを使って、九九の表を作成しなさい。"
   ]
  },
  {
   "cell_type": "code",
   "execution_count": 7,
   "metadata": {},
   "outputs": [
    {
     "data": {
      "text/plain": [
       "[[1, 2, 3, 4, 5, 6, 7, 8, 9],\n",
       " [2, 4, 6, 8, 10, 12, 14, 16, 18],\n",
       " [3, 6, 9, 12, 15, 18, 21, 24, 27],\n",
       " [4, 8, 12, 16, 20, 24, 28, 32, 36],\n",
       " [5, 10, 15, 20, 25, 30, 35, 40, 45],\n",
       " [6, 12, 18, 24, 30, 36, 42, 48, 54],\n",
       " [7, 14, 21, 28, 35, 42, 49, 56, 63],\n",
       " [8, 16, 24, 32, 40, 48, 56, 64, 72],\n",
       " [9, 18, 27, 36, 45, 54, 63, 72, 81]]"
      ]
     },
     "execution_count": 7,
     "metadata": {},
     "output_type": "execute_result"
    }
   ],
   "source": [
    "t = []  # 九九の表を格納するリストのリスト\n",
    "for dan in range (1,10):\n",
    "    g =[] # 行の答えを格納するリスト\n",
    "    for gyo in range (1,10):\n",
    "        g.append(dan * gyo)\n",
    "    t.append(g) # 行を追加する\n",
    "t"
   ]
  },
  {
   "cell_type": "markdown",
   "metadata": {},
   "source": [
    "作成した九九の表を参照して、入力した2つの値のかけ算をしなさい。"
   ]
  },
  {
   "cell_type": "code",
   "execution_count": 10,
   "metadata": {},
   "outputs": [
    {
     "name": "stdout",
     "output_type": "stream",
     "text": [
      "行？3\n",
      "段？5\n",
      "15\n"
     ]
    }
   ],
   "source": [
    "gyo = int(input(\"行？\"))\n",
    "dan = int(input(\"段？\"))\n",
    "print (t[gyo-1][dan-1])   # インデクスは0から始まるので1を引く"
   ]
  },
  {
   "cell_type": "markdown",
   "metadata": {},
   "source": [
    "## 問5-4 辞書を使った都市の平均気温プログラムの改造"
   ]
  },
  {
   "cell_type": "markdown",
   "metadata": {},
   "source": [
    "都市の平均気温を表示するプログラムを、次のように改造しなさい。\n",
    "\n",
    "1. 都市名を入力する。\n",
    "1. 辞書にある都市名が入力された場合、平均気温を出力する。\n",
    "1. 辞書にない都市名が入力された場合、平均気温を入力し、辞書に登録する。"
   ]
  },
  {
   "cell_type": "code",
   "execution_count": 11,
   "metadata": {},
   "outputs": [],
   "source": [
    "temperature =  { \"札幌\":8.0, \"仙台\": 11.9, \"東京\": 15.3, \"名古屋\": 14.9, \"大阪\": 16.2, \"福岡\": 16.0, \"那覇\": 22.4}"
   ]
  },
  {
   "cell_type": "code",
   "execution_count": 12,
   "metadata": {},
   "outputs": [
    {
     "data": {
      "text/plain": [
       "{'札幌': 8.0,\n",
       " '仙台': 11.9,\n",
       " '東京': 15.3,\n",
       " '名古屋': 14.9,\n",
       " '大阪': 16.2,\n",
       " '福岡': 16.0,\n",
       " '那覇': 22.4}"
      ]
     },
     "execution_count": 12,
     "metadata": {},
     "output_type": "execute_result"
    }
   ],
   "source": [
    "temperature"
   ]
  },
  {
   "cell_type": "code",
   "execution_count": 15,
   "metadata": {},
   "outputs": [
    {
     "name": "stdout",
     "output_type": "stream",
     "text": [
      "都市名？室蘭\n",
      "都市名が見つかりません 室蘭\n",
      "平均気温を入力してください？2\n"
     ]
    }
   ],
   "source": [
    "k = input(\"都市名？\")\n",
    "if k in temperature:\n",
    "    print(k, temperature[k])\n",
    "else:\n",
    "    print(\"都市名が見つかりません\",k)\n",
    "    d = float(input(\"平均気温を入力してください？\"))\n",
    "    temperature[k] = d   "
   ]
  },
  {
   "cell_type": "code",
   "execution_count": 16,
   "metadata": {},
   "outputs": [
    {
     "data": {
      "text/plain": [
       "{'札幌': 8.0,\n",
       " '仙台': 11.9,\n",
       " '東京': 15.3,\n",
       " '名古屋': 14.9,\n",
       " '大阪': 16.2,\n",
       " '福岡': 16.0,\n",
       " '那覇': 22.4,\n",
       " '室蘭': 2.0}"
      ]
     },
     "execution_count": 16,
     "metadata": {},
     "output_type": "execute_result"
    }
   ],
   "source": [
    "temperature"
   ]
  },
  {
   "cell_type": "code",
   "execution_count": null,
   "metadata": {},
   "outputs": [],
   "source": []
  }
 ],
 "metadata": {
  "kernelspec": {
   "display_name": "Python 3",
   "language": "python",
   "name": "python3"
  },
  "language_info": {
   "codemirror_mode": {
    "name": "ipython",
    "version": 3
   },
   "file_extension": ".py",
   "mimetype": "text/x-python",
   "name": "python",
   "nbconvert_exporter": "python",
   "pygments_lexer": "ipython3",
   "version": "3.6.5"
  },
  "toc": {
   "base_numbering": 1,
   "nav_menu": {},
   "number_sections": true,
   "sideBar": true,
   "skip_h1_title": false,
   "title_cell": "Table of Contents",
   "title_sidebar": "Contents",
   "toc_cell": false,
   "toc_position": {},
   "toc_section_display": true,
   "toc_window_display": false
  }
 },
 "nbformat": 4,
 "nbformat_minor": 2
}
