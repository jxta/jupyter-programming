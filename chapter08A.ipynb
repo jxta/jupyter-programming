{
 "cells": [
  {
   "cell_type": "markdown",
   "metadata": {},
   "source": [
    "# Jupyter Notebookで始めるプログラミング2019　演習問題　（８章）"
   ]
  },
  {
   "cell_type": "markdown",
   "metadata": {},
   "source": [
    "## 問8-1 処理時間に関する考察"
   ]
  },
  {
   "cell_type": "markdown",
   "metadata": {},
   "source": [
    "選択ソートアルゴリズムの処理時間がデータ量の２乗に比例する理由を考えなさい。"
   ]
  },
  {
   "cell_type": "markdown",
   "metadata": {},
   "source": [
    "## 問8-2 データを大きい順番に並べる"
   ]
  },
  {
   "cell_type": "markdown",
   "metadata": {},
   "source": [
    "1. 選択ソートのアルゴリズムを改造し、データを大きい順番にソートするプログラムを作成しなさい。\n",
    "1. データを1000個ランダムに発生し、その処理時間を測りなさい。"
   ]
  },
  {
   "cell_type": "code",
   "execution_count": 1,
   "metadata": {},
   "outputs": [],
   "source": [
    "def max_idx(l, s, e):\n",
    "    m = l[s] # 仮に最大値を最初の要素とする\n",
    "    m_idx = s # 仮に最大値の要素番号を最初の要素番号とする\n",
    "    for i in range(s,e):\n",
    "        if (m < l[i]):  #最大値より大きい場合\n",
    "            m = l[i]\n",
    "            m_idx = i\n",
    "    return m_idx"
   ]
  },
  {
   "cell_type": "code",
   "execution_count": 2,
   "metadata": {},
   "outputs": [],
   "source": [
    "def selection_sort2(l):\n",
    "    sort_start = 0\n",
    "    sort_end = len(l)\n",
    "    while(sort_start < sort_end):\n",
    "        mi = max_idx(l, sort_start, sort_end)\n",
    "        # 最大値の要素と最初の要素を入れ替える\n",
    "        tmp = l[sort_start]\n",
    "        l[sort_start] = l[mi]\n",
    "        l[mi] = tmp\n",
    "        # 対象範囲を変更する\n",
    "        sort_start += 1"
   ]
  },
  {
   "cell_type": "code",
   "execution_count": 2,
   "metadata": {},
   "outputs": [],
   "source": [
    "import random\n",
    "l = random.sample(list(range(1000)), k=1000)"
   ]
  },
  {
   "cell_type": "code",
   "execution_count": 5,
   "metadata": {},
   "outputs": [
    {
     "name": "stdout",
     "output_type": "stream",
     "text": [
      "CPU times: user 64.5 ms, sys: 0 ns, total: 64.5 ms\n",
      "Wall time: 63.1 ms\n"
     ]
    }
   ],
   "source": [
    "%%time\n",
    "selection_sort2(l)"
   ]
  },
  {
   "cell_type": "markdown",
   "metadata": {},
   "source": [
    "## 問8-3 文字列データのソート"
   ]
  },
  {
   "cell_type": "markdown",
   "metadata": {},
   "source": [
    "文字データは「$<$」や「$>$」演算子を使うことで、文字コードの順番で大小を比較することができます。"
   ]
  },
  {
   "cell_type": "code",
   "execution_count": 65,
   "metadata": {},
   "outputs": [
    {
     "data": {
      "text/plain": [
       "True"
      ]
     },
     "execution_count": 65,
     "metadata": {},
     "output_type": "execute_result"
    }
   ],
   "source": [
    "\"a\" < \"b\""
   ]
  },
  {
   "cell_type": "code",
   "execution_count": 66,
   "metadata": {},
   "outputs": [
    {
     "data": {
      "text/plain": [
       "True"
      ]
     },
     "execution_count": 66,
     "metadata": {},
     "output_type": "execute_result"
    }
   ],
   "source": [
    "\"A\" < \"a\""
   ]
  },
  {
   "cell_type": "code",
   "execution_count": 67,
   "metadata": {},
   "outputs": [
    {
     "data": {
      "text/plain": [
       "False"
      ]
     },
     "execution_count": 67,
     "metadata": {},
     "output_type": "execute_result"
    }
   ],
   "source": [
    "\"c\" >\"f\""
   ]
  },
  {
   "cell_type": "markdown",
   "metadata": {},
   "source": [
    "また、ランダムな文字列は次にように発生することができます"
   ]
  },
  {
   "cell_type": "code",
   "execution_count": 4,
   "metadata": {},
   "outputs": [
    {
     "data": {
      "text/plain": [
       "['k',\n",
       " 'n',\n",
       " 'e',\n",
       " 'b',\n",
       " 'm',\n",
       " 'd',\n",
       " 'w',\n",
       " 'g',\n",
       " 'i',\n",
       " 'y',\n",
       " 'h',\n",
       " 'c',\n",
       " 's',\n",
       " 'r',\n",
       " 't',\n",
       " 'x',\n",
       " 'f',\n",
       " 'p',\n",
       " 'j',\n",
       " 'q',\n",
       " 'u',\n",
       " 'o',\n",
       " 'a',\n",
       " 'v',\n",
       " 'z',\n",
       " 'l']"
      ]
     },
     "execution_count": 4,
     "metadata": {},
     "output_type": "execute_result"
    }
   ],
   "source": [
    "import random\n",
    "alphabet = [ 'a', 'b', 'c', 'd', 'e', 'f', 'g', 'h', 'i', 'j', 'k', 'l', 'm', 'n', 'o', 'p', 'q', 'r', 's', 't', 'u', 'v', 'w', 'x', 'y', 'z']\n",
    "random.sample(alphabet, len(alphabet))"
   ]
  },
  {
   "cell_type": "markdown",
   "metadata": {},
   "source": [
    "上記関数を使って、アルファベット26文字のランダムなリスト($l$)を作成しなさい。"
   ]
  },
  {
   "cell_type": "code",
   "execution_count": 5,
   "metadata": {},
   "outputs": [],
   "source": [
    "l = random.sample(alphabet, len(alphabet))"
   ]
  },
  {
   "cell_type": "markdown",
   "metadata": {},
   "source": [
    "lを選択ソートを使って、アルファベットの逆順でソートしなさい。"
   ]
  },
  {
   "cell_type": "code",
   "execution_count": 31,
   "metadata": {},
   "outputs": [
    {
     "data": {
      "text/plain": [
       "['z',\n",
       " 'y',\n",
       " 'x',\n",
       " 'w',\n",
       " 'v',\n",
       " 'u',\n",
       " 't',\n",
       " 's',\n",
       " 'r',\n",
       " 'q',\n",
       " 'p',\n",
       " 'o',\n",
       " 'n',\n",
       " 'm',\n",
       " 'l',\n",
       " 'k',\n",
       " 'j',\n",
       " 'i',\n",
       " 'h',\n",
       " 'g',\n",
       " 'f',\n",
       " 'e',\n",
       " 'd',\n",
       " 'c',\n",
       " 'b',\n",
       " 'a']"
      ]
     },
     "execution_count": 31,
     "metadata": {},
     "output_type": "execute_result"
    }
   ],
   "source": [
    "selection_sort2(l)\n",
    "l"
   ]
  },
  {
   "cell_type": "markdown",
   "metadata": {},
   "source": [
    "## 問8-4 月の名称の文字列によるソート"
   ]
  },
  {
   "cell_type": "markdown",
   "metadata": {},
   "source": [
    "1. 英語表記の月の名称のリスト(month)を作成しなさい。\n",
    "1. 作成したリストをソートすることで、アルファベット順に並べたときに５番目になる月を求めなさい。\n"
   ]
  },
  {
   "cell_type": "code",
   "execution_count": 7,
   "metadata": {},
   "outputs": [],
   "source": [
    "month = ['January', 'February', 'March', 'April', 'May', 'June', 'July', 'August', 'September', 'October', 'November', 'December']"
   ]
  },
  {
   "cell_type": "code",
   "execution_count": 27,
   "metadata": {},
   "outputs": [],
   "source": [
    "#  選択ソートプログラム\n",
    "def min_idx(l, s, e):\n",
    "    min = l[s] # 仮に最小値を最初の要素とする\n",
    "    min_idx = s\n",
    "    for i in range(s, e):\n",
    "        if (min > l[i]):\n",
    "            min = l[i]\n",
    "            min_idx = i\n",
    "    return min_idx\n",
    "\n",
    "def selection_sort(l):\n",
    "    sort_start = 0\n",
    "    sort_end = len(l)\n",
    "    while (sort_start < sort_end):\n",
    "        mi = min_idx(l, sort_start, sort_end)\n",
    "\n",
    "        # 最小値のものと最初の要素を入れ替える\n",
    "        tmp = l[sort_start]\n",
    "        l[sort_start] = l[mi]\n",
    "        l[mi] = tmp\n",
    "    \n",
    "        # 対象範囲を変更する\n",
    "        sort_start += 1"
   ]
  },
  {
   "cell_type": "code",
   "execution_count": 28,
   "metadata": {},
   "outputs": [
    {
     "data": {
      "text/plain": [
       "['April',\n",
       " 'August',\n",
       " 'December',\n",
       " 'February',\n",
       " 'January',\n",
       " 'July',\n",
       " 'June',\n",
       " 'March',\n",
       " 'May',\n",
       " 'November',\n",
       " 'October',\n",
       " 'September']"
      ]
     },
     "execution_count": 28,
     "metadata": {},
     "output_type": "execute_result"
    }
   ],
   "source": [
    "selection_sort(month)\n",
    "month"
   ]
  },
  {
   "cell_type": "markdown",
   "metadata": {},
   "source": [
    "## 問8-5 月順のソート"
   ]
  },
  {
   "cell_type": "markdown",
   "metadata": {},
   "source": [
    " 英語表記の月の名称のリスト(month)を実際の月の順番に並べる方法を考えなさい。"
   ]
  },
  {
   "cell_type": "code",
   "execution_count": 9,
   "metadata": {},
   "outputs": [],
   "source": [
    "month_l = [['January', 1], ['February', 2], ['March', 3], ['April', 4], ['May', 5], ['June', 6], \n",
    "        ['July',7], ['August',8], ['September',9], ['October',10], ['November',11], ['December',12]]"
   ]
  },
  {
   "cell_type": "code",
   "execution_count": 19,
   "metadata": {},
   "outputs": [
    {
     "data": {
      "text/plain": [
       "[['October', 10],\n",
       " ['July', 7],\n",
       " ['June', 6],\n",
       " ['December', 12],\n",
       " ['February', 2],\n",
       " ['September', 9],\n",
       " ['March', 3],\n",
       " ['November', 11],\n",
       " ['May', 5],\n",
       " ['January', 1],\n",
       " ['August', 8],\n",
       " ['April', 4]]"
      ]
     },
     "execution_count": 19,
     "metadata": {},
     "output_type": "execute_result"
    }
   ],
   "source": [
    "import random\n",
    "l = random.sample(month_l, 12)\n",
    "l"
   ]
  },
  {
   "cell_type": "code",
   "execution_count": 20,
   "metadata": {},
   "outputs": [],
   "source": [
    "def min_idx_l(l, s, e):\n",
    "    min = l[s][1] # 仮に最小値を最初の要素とする\n",
    "    min_idx = s\n",
    "    for i in range(s, e):\n",
    "        if (min > l[i][1]):\n",
    "            min = l[i][1]\n",
    "            min_idx = i\n",
    "    return min_idx\n"
   ]
  },
  {
   "cell_type": "code",
   "execution_count": 21,
   "metadata": {},
   "outputs": [],
   "source": [
    "def selection_sort_l(l):\n",
    "    sort_start = 0\n",
    "    sort_end = len(l)\n",
    "    while (sort_start < sort_end):\n",
    "        mi = min_idx_l(l, sort_start, sort_end)\n",
    "\n",
    "        # 最小値のものと最初の要素を入れ替える\n",
    "        tmp = l[sort_start]\n",
    "        l[sort_start] = l[mi]\n",
    "        l[mi] = tmp\n",
    "    \n",
    "        # 対象範囲を変更する\n",
    "        sort_start += 1"
   ]
  },
  {
   "cell_type": "code",
   "execution_count": 22,
   "metadata": {},
   "outputs": [
    {
     "data": {
      "text/plain": [
       "[['January', 1],\n",
       " ['February', 2],\n",
       " ['March', 3],\n",
       " ['April', 4],\n",
       " ['May', 5],\n",
       " ['June', 6],\n",
       " ['July', 7],\n",
       " ['August', 8],\n",
       " ['September', 9],\n",
       " ['October', 10],\n",
       " ['November', 11],\n",
       " ['December', 12]]"
      ]
     },
     "execution_count": 22,
     "metadata": {},
     "output_type": "execute_result"
    }
   ],
   "source": [
    "selection_sort_l(l)\n",
    "l"
   ]
  },
  {
   "cell_type": "code",
   "execution_count": null,
   "metadata": {},
   "outputs": [],
   "source": []
  }
 ],
 "metadata": {
  "kernelspec": {
   "display_name": "Python 3",
   "language": "python",
   "name": "python3"
  },
  "language_info": {
   "codemirror_mode": {
    "name": "ipython",
    "version": 3
   },
   "file_extension": ".py",
   "mimetype": "text/x-python",
   "name": "python",
   "nbconvert_exporter": "python",
   "pygments_lexer": "ipython3",
   "version": "3.6.5"
  },
  "toc": {
   "base_numbering": 1,
   "nav_menu": {},
   "number_sections": true,
   "sideBar": true,
   "skip_h1_title": false,
   "title_cell": "Table of Contents",
   "title_sidebar": "Contents",
   "toc_cell": false,
   "toc_position": {},
   "toc_section_display": true,
   "toc_window_display": false
  }
 },
 "nbformat": 4,
 "nbformat_minor": 2
}
